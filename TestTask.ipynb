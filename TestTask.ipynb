{
 "cells": [
  {
   "cell_type": "markdown",
   "metadata": {
    "colab_type": "text",
    "collapsed": true,
    "id": "hoD-JptX3vGK"
   },
   "source": [
    "# All imports necessary"
   ]
  },
  {
   "cell_type": "code",
   "execution_count": 1,
   "metadata": {
    "colab": {},
    "colab_type": "code",
    "id": "wk5qA22w3vGM"
   },
   "outputs": [],
   "source": [
    "import warnings\n",
    "warnings.filterwarnings(\"ignore\")"
   ]
  },
  {
   "cell_type": "code",
   "execution_count": 2,
   "metadata": {
    "colab": {},
    "colab_type": "code",
    "id": "M4bSYWRy3vGR"
   },
   "outputs": [],
   "source": [
    "import pandas as pd\n",
    "import numpy as np"
   ]
  },
  {
   "cell_type": "code",
   "execution_count": 3,
   "metadata": {
    "colab": {},
    "colab_type": "code",
    "id": "CT3hxgLG3vGU"
   },
   "outputs": [],
   "source": [
    "from sklearn.preprocessing import MaxAbsScaler\n",
    "from sklearn.preprocessing import MinMaxScaler\n",
    "from sklearn.preprocessing import RobustScaler\n",
    "from sklearn.preprocessing import StandardScaler"
   ]
  },
  {
   "cell_type": "code",
   "execution_count": 4,
   "metadata": {
    "colab": {},
    "colab_type": "code",
    "id": "2YExNTWI3vGW"
   },
   "outputs": [],
   "source": [
    "from sklearn.preprocessing import PowerTransformer\n",
    "from sklearn.preprocessing import QuantileTransformer"
   ]
  },
  {
   "cell_type": "code",
   "execution_count": 5,
   "metadata": {
    "colab": {},
    "colab_type": "code",
    "id": "xZXkBve83vGc"
   },
   "outputs": [],
   "source": [
    "from sklearn.pipeline import Pipeline"
   ]
  },
  {
   "cell_type": "code",
   "execution_count": 6,
   "metadata": {
    "colab": {},
    "colab_type": "code",
    "id": "qjlexYBp3vGd"
   },
   "outputs": [],
   "source": [
    "from sklearn.compose import ColumnTransformer"
   ]
  },
  {
   "cell_type": "code",
   "execution_count": 7,
   "metadata": {
    "colab": {},
    "colab_type": "code",
    "id": "CP9TKC-B3vGg"
   },
   "outputs": [],
   "source": [
    "from sklearn.model_selection import train_test_split"
   ]
  },
  {
   "cell_type": "code",
   "execution_count": 8,
   "metadata": {
    "colab": {},
    "colab_type": "code",
    "id": "m_FVNQjj3vGi"
   },
   "outputs": [],
   "source": [
    "from sklearn.model_selection import cross_val_score"
   ]
  },
  {
   "cell_type": "code",
   "execution_count": 9,
   "metadata": {
    "colab": {},
    "colab_type": "code",
    "id": "CBQgGyQC3vGk"
   },
   "outputs": [],
   "source": [
    "from sklearn.model_selection import GridSearchCV"
   ]
  },
  {
   "cell_type": "code",
   "execution_count": 10,
   "metadata": {
    "colab": {},
    "colab_type": "code",
    "id": "O6nmUjMz3vGm"
   },
   "outputs": [],
   "source": [
    "from sklearn.linear_model import LogisticRegression"
   ]
  },
  {
   "cell_type": "code",
   "execution_count": 11,
   "metadata": {
    "colab": {},
    "colab_type": "code",
    "id": "gS1__hia3vGu"
   },
   "outputs": [],
   "source": [
    "import matplotlib.pyplot as plt\n",
    "import seaborn as sns"
   ]
  },
  {
   "cell_type": "code",
   "execution_count": 12,
   "metadata": {
    "colab": {},
    "colab_type": "code",
    "id": "hKAfbmDq3vHF"
   },
   "outputs": [],
   "source": [
    "from sklearn.metrics import auc"
   ]
  },
  {
   "cell_type": "code",
   "execution_count": 13,
   "metadata": {
    "colab": {},
    "colab_type": "code",
    "id": "DlANOYHF3vHH"
   },
   "outputs": [],
   "source": [
    "from sklearn.metrics import roc_curve"
   ]
  },
  {
   "cell_type": "code",
   "execution_count": 14,
   "metadata": {
    "colab": {},
    "colab_type": "code",
    "id": "l6YfPpA1CQrU"
   },
   "outputs": [],
   "source": [
    "from sklearn.base import BaseEstimator\n",
    "from sklearn.base import ClassifierMixin\n",
    "from sklearn.base import TransformerMixin\n",
    "from sklearn.preprocessing import LabelEncoder\n",
    "from sklearn.preprocessing import LabelBinarizer"
   ]
  },
  {
   "cell_type": "code",
   "execution_count": 15,
   "metadata": {
    "colab": {},
    "colab_type": "code",
    "id": "oAankUtN3vHJ"
   },
   "outputs": [],
   "source": [
    "%matplotlib inline\n",
    "\n",
    "sns.set(font_scale=2)"
   ]
  },
  {
   "cell_type": "markdown",
   "metadata": {
    "colab_type": "text",
    "id": "_G7FoGgaB3lh"
   },
   "source": [
    "# Auxiliary classes"
   ]
  },
  {
   "cell_type": "code",
   "execution_count": 16,
   "metadata": {
    "colab": {},
    "colab_type": "code",
    "id": "N4clvZV6B-Dp"
   },
   "outputs": [],
   "source": [
    "class CustomClassifier(BaseEstimator, ClassifierMixin):\n",
    "    def __init__(self, base):\n",
    "        self.base = base\n",
    "\n",
    "    def fit(self, X, y=None):\n",
    "        self.base.fit(X, y)\n",
    "        return self\n",
    "\n",
    "    def predict(self, X, y=None):\n",
    "        return self.base.predict(X)\n",
    "\n",
    "    def predict_proba(self, X, y=None):\n",
    "        return self.base.predict_proba(X)\n",
    "\n",
    "    def fit_predict(self, X, y=None):\n",
    "        self.fit(X, y)\n",
    "        return self.predict(X)\n",
    "\n",
    "    def fit_predict_proba(self, X, y=None):\n",
    "        self.fit(X, y)\n",
    "        return self.predict_proba(X)\n",
    "\n",
    "    def score(self, X, y, sample_weight=None):\n",
    "        return self.base.score(X, y, sample_weight)"
   ]
  },
  {
   "cell_type": "code",
   "execution_count": 17,
   "metadata": {
    "colab": {},
    "colab_type": "code",
    "id": "xDm5oWb2B9ww"
   },
   "outputs": [],
   "source": [
    "class CustomLabelBinarizer(TransformerMixin):\n",
    "    def __init__(self, neg_label=0, pos_label=1, sparse_output=False):\n",
    "        self.binarizer = LabelBinarizer(neg_label, pos_label, sparse_output)\n",
    "\n",
    "    def transform(self, X, y=None, **kwargs):\n",
    "        return self.binarizer.transform(y).ravel()\n",
    "\n",
    "    def fit(self, X, y=None, **kwargs):\n",
    "        self.binarizer.fit(y)\n",
    "\n",
    "    def fit_transform(self, X, y=None, **kwargs):\n",
    "        self.binarizer.fit(y)\n",
    "        return self.binarizer.transform(y).ravel()"
   ]
  },
  {
   "cell_type": "code",
   "execution_count": 18,
   "metadata": {
    "colab": {},
    "colab_type": "code",
    "id": "FizmtOfUB9Er"
   },
   "outputs": [],
   "source": [
    "class CustomLabelEncoder(TransformerMixin):\n",
    "    def __init__(self):\n",
    "        self.encoder = LabelEncoder()\n",
    "\n",
    "    def transform(self, X, y=None, **kwargs):\n",
    "        return self.encoder.transform(y)\n",
    "\n",
    "    def fit(self, X, y=None, **kwargs):\n",
    "        self.encoder.fit(y)\n",
    "\n",
    "    def fit_transform(self, X, y=None, **kwargs):\n",
    "        self.encoder.fit(y)\n",
    "        return self.encoder.transform(y)"
   ]
  },
  {
   "cell_type": "markdown",
   "metadata": {
    "colab_type": "text",
    "id": "WkSY7szqDUKE"
   },
   "source": [
    "# Load the data"
   ]
  },
  {
   "cell_type": "markdown",
   "metadata": {
    "colab_type": "text",
    "id": "v9L3FPZ63vHM"
   },
   "source": [
    "# Read the data and add some gaps"
   ]
  },
  {
   "cell_type": "code",
   "execution_count": 19,
   "metadata": {
    "colab": {},
    "colab_type": "code",
    "id": "IoY54O4i3vHM"
   },
   "outputs": [],
   "source": [
    "data = pd.read_csv('train.csv', sep=',')"
   ]
  },
  {
   "cell_type": "code",
   "execution_count": 20,
   "metadata": {},
   "outputs": [],
   "source": [
    "test_data = pd.read_csv('test.csv', sep=',')"
   ]
  },
  {
   "cell_type": "code",
   "execution_count": 21,
   "metadata": {
    "colab": {
     "base_uri": "https://localhost:8080/",
     "height": 680
    },
    "colab_type": "code",
    "id": "dPLbodIt3vHO",
    "outputId": "e57b2c7a-d324-4792-dc31-88c7616d9bec",
    "scrolled": true
   },
   "outputs": [
    {
     "data": {
      "text/html": [
       "<div>\n",
       "<style scoped>\n",
       "    .dataframe tbody tr th:only-of-type {\n",
       "        vertical-align: middle;\n",
       "    }\n",
       "\n",
       "    .dataframe tbody tr th {\n",
       "        vertical-align: top;\n",
       "    }\n",
       "\n",
       "    .dataframe thead th {\n",
       "        text-align: right;\n",
       "    }\n",
       "</style>\n",
       "<table border=\"1\" class=\"dataframe\">\n",
       "  <thead>\n",
       "    <tr style=\"text-align: right;\">\n",
       "      <th></th>\n",
       "      <th>0</th>\n",
       "      <th>1</th>\n",
       "      <th>2</th>\n",
       "      <th>3</th>\n",
       "      <th>4</th>\n",
       "      <th>5</th>\n",
       "      <th>6</th>\n",
       "      <th>7</th>\n",
       "      <th>8</th>\n",
       "      <th>9</th>\n",
       "    </tr>\n",
       "  </thead>\n",
       "  <tbody>\n",
       "    <tr>\n",
       "      <th>VASK0</th>\n",
       "      <td>108</td>\n",
       "      <td>47</td>\n",
       "      <td>93</td>\n",
       "      <td>62</td>\n",
       "      <td>40</td>\n",
       "      <td>185</td>\n",
       "      <td>115</td>\n",
       "      <td>233</td>\n",
       "      <td>7</td>\n",
       "      <td>10</td>\n",
       "    </tr>\n",
       "    <tr>\n",
       "      <th>VASK1</th>\n",
       "      <td>276</td>\n",
       "      <td>132</td>\n",
       "      <td>172</td>\n",
       "      <td>104</td>\n",
       "      <td>43</td>\n",
       "      <td>259</td>\n",
       "      <td>150</td>\n",
       "      <td>182</td>\n",
       "      <td>161</td>\n",
       "      <td>121</td>\n",
       "    </tr>\n",
       "    <tr>\n",
       "      <th>VASK2</th>\n",
       "      <td>224</td>\n",
       "      <td>197</td>\n",
       "      <td>193</td>\n",
       "      <td>169</td>\n",
       "      <td>87</td>\n",
       "      <td>224</td>\n",
       "      <td>241</td>\n",
       "      <td>179</td>\n",
       "      <td>272</td>\n",
       "      <td>200</td>\n",
       "    </tr>\n",
       "    <tr>\n",
       "      <th>VASK3</th>\n",
       "      <td>196</td>\n",
       "      <td>236</td>\n",
       "      <td>226</td>\n",
       "      <td>188</td>\n",
       "      <td>110</td>\n",
       "      <td>295</td>\n",
       "      <td>228</td>\n",
       "      <td>183</td>\n",
       "      <td>147</td>\n",
       "      <td>266</td>\n",
       "    </tr>\n",
       "    <tr>\n",
       "      <th>VASK4</th>\n",
       "      <td>195</td>\n",
       "      <td>188</td>\n",
       "      <td>232</td>\n",
       "      <td>140</td>\n",
       "      <td>99</td>\n",
       "      <td>261</td>\n",
       "      <td>198</td>\n",
       "      <td>185</td>\n",
       "      <td>134</td>\n",
       "      <td>230</td>\n",
       "    </tr>\n",
       "    <tr>\n",
       "      <th>VBID0</th>\n",
       "      <td>132</td>\n",
       "      <td>81</td>\n",
       "      <td>33</td>\n",
       "      <td>75</td>\n",
       "      <td>11</td>\n",
       "      <td>12</td>\n",
       "      <td>54</td>\n",
       "      <td>18</td>\n",
       "      <td>172</td>\n",
       "      <td>118</td>\n",
       "    </tr>\n",
       "    <tr>\n",
       "      <th>VBID1</th>\n",
       "      <td>181</td>\n",
       "      <td>146</td>\n",
       "      <td>128</td>\n",
       "      <td>165</td>\n",
       "      <td>66</td>\n",
       "      <td>164</td>\n",
       "      <td>254</td>\n",
       "      <td>181</td>\n",
       "      <td>273</td>\n",
       "      <td>185</td>\n",
       "    </tr>\n",
       "    <tr>\n",
       "      <th>VBID2</th>\n",
       "      <td>253</td>\n",
       "      <td>193</td>\n",
       "      <td>168</td>\n",
       "      <td>151</td>\n",
       "      <td>77</td>\n",
       "      <td>249</td>\n",
       "      <td>203</td>\n",
       "      <td>188</td>\n",
       "      <td>182</td>\n",
       "      <td>173</td>\n",
       "    </tr>\n",
       "    <tr>\n",
       "      <th>VBID3</th>\n",
       "      <td>207</td>\n",
       "      <td>169</td>\n",
       "      <td>145</td>\n",
       "      <td>206</td>\n",
       "      <td>155</td>\n",
       "      <td>231</td>\n",
       "      <td>169</td>\n",
       "      <td>216</td>\n",
       "      <td>363</td>\n",
       "      <td>198</td>\n",
       "    </tr>\n",
       "    <tr>\n",
       "      <th>VBID4</th>\n",
       "      <td>185</td>\n",
       "      <td>192</td>\n",
       "      <td>140</td>\n",
       "      <td>105</td>\n",
       "      <td>364</td>\n",
       "      <td>239</td>\n",
       "      <td>189</td>\n",
       "      <td>165</td>\n",
       "      <td>194</td>\n",
       "      <td>157</td>\n",
       "    </tr>\n",
       "    <tr>\n",
       "      <th>VASK0_PREV</th>\n",
       "      <td>108</td>\n",
       "      <td>47</td>\n",
       "      <td>93</td>\n",
       "      <td>62</td>\n",
       "      <td>40</td>\n",
       "      <td>185</td>\n",
       "      <td>115</td>\n",
       "      <td>233</td>\n",
       "      <td>4</td>\n",
       "      <td>6</td>\n",
       "    </tr>\n",
       "    <tr>\n",
       "      <th>VASK1_PREV</th>\n",
       "      <td>276</td>\n",
       "      <td>132</td>\n",
       "      <td>172</td>\n",
       "      <td>104</td>\n",
       "      <td>43</td>\n",
       "      <td>259</td>\n",
       "      <td>150</td>\n",
       "      <td>182</td>\n",
       "      <td>161</td>\n",
       "      <td>121</td>\n",
       "    </tr>\n",
       "    <tr>\n",
       "      <th>VASK2_PREV</th>\n",
       "      <td>224</td>\n",
       "      <td>197</td>\n",
       "      <td>193</td>\n",
       "      <td>169</td>\n",
       "      <td>87</td>\n",
       "      <td>224</td>\n",
       "      <td>241</td>\n",
       "      <td>179</td>\n",
       "      <td>272</td>\n",
       "      <td>200</td>\n",
       "    </tr>\n",
       "    <tr>\n",
       "      <th>VASK3_PREV</th>\n",
       "      <td>196</td>\n",
       "      <td>236</td>\n",
       "      <td>226</td>\n",
       "      <td>188</td>\n",
       "      <td>110</td>\n",
       "      <td>295</td>\n",
       "      <td>228</td>\n",
       "      <td>183</td>\n",
       "      <td>147</td>\n",
       "      <td>266</td>\n",
       "    </tr>\n",
       "    <tr>\n",
       "      <th>VASK4_PREV</th>\n",
       "      <td>195</td>\n",
       "      <td>188</td>\n",
       "      <td>232</td>\n",
       "      <td>140</td>\n",
       "      <td>99</td>\n",
       "      <td>261</td>\n",
       "      <td>198</td>\n",
       "      <td>185</td>\n",
       "      <td>134</td>\n",
       "      <td>230</td>\n",
       "    </tr>\n",
       "    <tr>\n",
       "      <th>VBID0_PREV</th>\n",
       "      <td>136</td>\n",
       "      <td>81</td>\n",
       "      <td>33</td>\n",
       "      <td>81</td>\n",
       "      <td>11</td>\n",
       "      <td>20</td>\n",
       "      <td>56</td>\n",
       "      <td>18</td>\n",
       "      <td>172</td>\n",
       "      <td>118</td>\n",
       "    </tr>\n",
       "    <tr>\n",
       "      <th>VBID1_PREV</th>\n",
       "      <td>181</td>\n",
       "      <td>146</td>\n",
       "      <td>128</td>\n",
       "      <td>165</td>\n",
       "      <td>66</td>\n",
       "      <td>164</td>\n",
       "      <td>254</td>\n",
       "      <td>181</td>\n",
       "      <td>273</td>\n",
       "      <td>185</td>\n",
       "    </tr>\n",
       "    <tr>\n",
       "      <th>VBID2_PREV</th>\n",
       "      <td>253</td>\n",
       "      <td>193</td>\n",
       "      <td>168</td>\n",
       "      <td>151</td>\n",
       "      <td>77</td>\n",
       "      <td>249</td>\n",
       "      <td>203</td>\n",
       "      <td>188</td>\n",
       "      <td>182</td>\n",
       "      <td>173</td>\n",
       "    </tr>\n",
       "    <tr>\n",
       "      <th>VBID3_PREV</th>\n",
       "      <td>207</td>\n",
       "      <td>169</td>\n",
       "      <td>145</td>\n",
       "      <td>206</td>\n",
       "      <td>153</td>\n",
       "      <td>231</td>\n",
       "      <td>169</td>\n",
       "      <td>216</td>\n",
       "      <td>363</td>\n",
       "      <td>198</td>\n",
       "    </tr>\n",
       "    <tr>\n",
       "      <th>VBID4_PREV</th>\n",
       "      <td>185</td>\n",
       "      <td>192</td>\n",
       "      <td>140</td>\n",
       "      <td>105</td>\n",
       "      <td>364</td>\n",
       "      <td>239</td>\n",
       "      <td>189</td>\n",
       "      <td>164</td>\n",
       "      <td>194</td>\n",
       "      <td>157</td>\n",
       "    </tr>\n",
       "    <tr>\n",
       "      <th>Y</th>\n",
       "      <td>0</td>\n",
       "      <td>0</td>\n",
       "      <td>0</td>\n",
       "      <td>0</td>\n",
       "      <td>0</td>\n",
       "      <td>0</td>\n",
       "      <td>0</td>\n",
       "      <td>0</td>\n",
       "      <td>0</td>\n",
       "      <td>0</td>\n",
       "    </tr>\n",
       "  </tbody>\n",
       "</table>\n",
       "</div>"
      ],
      "text/plain": [
       "              0    1    2    3    4    5    6    7    8    9\n",
       "VASK0       108   47   93   62   40  185  115  233    7   10\n",
       "VASK1       276  132  172  104   43  259  150  182  161  121\n",
       "VASK2       224  197  193  169   87  224  241  179  272  200\n",
       "VASK3       196  236  226  188  110  295  228  183  147  266\n",
       "VASK4       195  188  232  140   99  261  198  185  134  230\n",
       "VBID0       132   81   33   75   11   12   54   18  172  118\n",
       "VBID1       181  146  128  165   66  164  254  181  273  185\n",
       "VBID2       253  193  168  151   77  249  203  188  182  173\n",
       "VBID3       207  169  145  206  155  231  169  216  363  198\n",
       "VBID4       185  192  140  105  364  239  189  165  194  157\n",
       "VASK0_PREV  108   47   93   62   40  185  115  233    4    6\n",
       "VASK1_PREV  276  132  172  104   43  259  150  182  161  121\n",
       "VASK2_PREV  224  197  193  169   87  224  241  179  272  200\n",
       "VASK3_PREV  196  236  226  188  110  295  228  183  147  266\n",
       "VASK4_PREV  195  188  232  140   99  261  198  185  134  230\n",
       "VBID0_PREV  136   81   33   81   11   20   56   18  172  118\n",
       "VBID1_PREV  181  146  128  165   66  164  254  181  273  185\n",
       "VBID2_PREV  253  193  168  151   77  249  203  188  182  173\n",
       "VBID3_PREV  207  169  145  206  153  231  169  216  363  198\n",
       "VBID4_PREV  185  192  140  105  364  239  189  164  194  157\n",
       "Y             0    0    0    0    0    0    0    0    0    0"
      ]
     },
     "execution_count": 21,
     "metadata": {},
     "output_type": "execute_result"
    }
   ],
   "source": [
    "data.head(10).T"
   ]
  },
  {
   "cell_type": "code",
   "execution_count": 22,
   "metadata": {
    "colab": {},
    "colab_type": "code",
    "id": "ZbIqh5Bm3vHh"
   },
   "outputs": [],
   "source": [
    "df = data.copy()"
   ]
  },
  {
   "cell_type": "code",
   "execution_count": 23,
   "metadata": {
    "colab": {
     "base_uri": "https://localhost:8080/",
     "height": 466
    },
    "colab_type": "code",
    "id": "a8mb1xBv3vHk",
    "outputId": "dbee01ce-5f60-4f06-8451-98fbc9d2ec66"
   },
   "outputs": [
    {
     "name": "stdout",
     "output_type": "stream",
     "text": [
      "<class 'pandas.core.frame.DataFrame'>\n",
      "RangeIndex: 186590 entries, 0 to 186589\n",
      "Data columns (total 21 columns):\n",
      " #   Column      Non-Null Count   Dtype\n",
      "---  ------      --------------   -----\n",
      " 0   VASK0       186590 non-null  int64\n",
      " 1   VASK1       186590 non-null  int64\n",
      " 2   VASK2       186590 non-null  int64\n",
      " 3   VASK3       186590 non-null  int64\n",
      " 4   VASK4       186590 non-null  int64\n",
      " 5   VBID0       186590 non-null  int64\n",
      " 6   VBID1       186590 non-null  int64\n",
      " 7   VBID2       186590 non-null  int64\n",
      " 8   VBID3       186590 non-null  int64\n",
      " 9   VBID4       186590 non-null  int64\n",
      " 10  VASK0_PREV  186590 non-null  int64\n",
      " 11  VASK1_PREV  186590 non-null  int64\n",
      " 12  VASK2_PREV  186590 non-null  int64\n",
      " 13  VASK3_PREV  186590 non-null  int64\n",
      " 14  VASK4_PREV  186590 non-null  int64\n",
      " 15  VBID0_PREV  186590 non-null  int64\n",
      " 16  VBID1_PREV  186590 non-null  int64\n",
      " 17  VBID2_PREV  186590 non-null  int64\n",
      " 18  VBID3_PREV  186590 non-null  int64\n",
      " 19  VBID4_PREV  186590 non-null  int64\n",
      " 20  Y           186590 non-null  int64\n",
      "dtypes: int64(21)\n",
      "memory usage: 29.9 MB\n"
     ]
    }
   ],
   "source": [
    "df.info(verbose=True, null_counts=True)"
   ]
  },
  {
   "cell_type": "code",
   "execution_count": 24,
   "metadata": {},
   "outputs": [],
   "source": [
    "#profiling_report = pandas_profiling.ProfileReport(df)"
   ]
  },
  {
   "cell_type": "code",
   "execution_count": 25,
   "metadata": {
    "colab": {},
    "colab_type": "code",
    "id": "A61y_ujP3vHm"
   },
   "outputs": [],
   "source": [
    "features = df.columns[:-1].values.tolist()"
   ]
  },
  {
   "cell_type": "code",
   "execution_count": 26,
   "metadata": {
    "colab": {},
    "colab_type": "code",
    "id": "ityKCJO53vHq"
   },
   "outputs": [],
   "source": [
    "target = 'Y'"
   ]
  },
  {
   "cell_type": "code",
   "execution_count": 27,
   "metadata": {},
   "outputs": [
    {
     "data": {
      "image/png": "[encoded data removed]",
      "text/plain": [
       "<Figure size 720x360 with 1 Axes>"
      ]
     },
     "metadata": {},
     "output_type": "display_data"
    }
   ],
   "source": [
    "plt.figure(figsize=(10, 5))\n",
    "sns.countplot(x=target, data=df)\n",
    "plt.show()"
   ]
  },
  {
   "cell_type": "markdown",
   "metadata": {
    "colab_type": "text",
    "id": "DptXiqtB3vHr"
   },
   "source": [
    "# Split the data into train and test"
   ]
  },
  {
   "cell_type": "code",
   "execution_count": 28,
   "metadata": {
    "colab": {},
    "colab_type": "code",
    "id": "bmwauWd43vHs"
   },
   "outputs": [],
   "source": [
    "X, y = df[features], df[target]"
   ]
  },
  {
   "cell_type": "code",
   "execution_count": 29,
   "metadata": {
    "colab": {},
    "colab_type": "code",
    "id": "m_seAbBU3vHt"
   },
   "outputs": [],
   "source": [
    "y = CustomLabelBinarizer().fit_transform(X, CustomLabelEncoder().fit_transform(X, y))"
   ]
  },
  {
   "cell_type": "code",
   "execution_count": 30,
   "metadata": {
    "colab": {},
    "colab_type": "code",
    "id": "XIDNdl4n3vHu"
   },
   "outputs": [],
   "source": [
    "X_train, X_test, y_train, y_test = train_test_split(X, y, test_size=0.3, stratify=y, random_state=0)"
   ]
  },
  {
   "cell_type": "code",
   "execution_count": 31,
   "metadata": {
    "colab": {
     "base_uri": "https://localhost:8080/",
     "height": 34
    },
    "colab_type": "code",
    "id": "AQB370pP3vHw",
    "outputId": "92fad9fd-3883-4eed-ff3c-4ea4f565755b"
   },
   "outputs": [],
   "source": [
    "#type(X_train)"
   ]
  },
  {
   "cell_type": "code",
   "execution_count": 32,
   "metadata": {
    "colab": {
     "base_uri": "https://localhost:8080/",
     "height": 34
    },
    "colab_type": "code",
    "id": "JMFT0emP3vHz",
    "outputId": "5dde969a-0628-4550-caa2-a58d09631e34"
   },
   "outputs": [],
   "source": [
    "#type(X_test)"
   ]
  },
  {
   "cell_type": "code",
   "execution_count": 33,
   "metadata": {
    "colab": {
     "base_uri": "https://localhost:8080/",
     "height": 34
    },
    "colab_type": "code",
    "id": "EE2r5tKb3vH5",
    "outputId": "c9c92275-8370-4d48-e47b-29068cd18921"
   },
   "outputs": [],
   "source": [
    "#type(y_train)"
   ]
  },
  {
   "cell_type": "code",
   "execution_count": 34,
   "metadata": {
    "colab": {
     "base_uri": "https://localhost:8080/",
     "height": 34
    },
    "colab_type": "code",
    "id": "GYnwNbiZ3vH9",
    "outputId": "19113ee2-eb1a-4097-c35d-09b7ff1f784f"
   },
   "outputs": [],
   "source": [
    "#type(y_test)"
   ]
  },
  {
   "cell_type": "code",
   "execution_count": 35,
   "metadata": {
    "colab": {
     "base_uri": "https://localhost:8080/",
     "height": 34
    },
    "colab_type": "code",
    "id": "WLGfiEHk3vID",
    "outputId": "afa764b8-afcd-4c62-ba5c-247175c803f1"
   },
   "outputs": [],
   "source": [
    "#X_train.shape"
   ]
  },
  {
   "cell_type": "code",
   "execution_count": 36,
   "metadata": {
    "colab": {
     "base_uri": "https://localhost:8080/",
     "height": 34
    },
    "colab_type": "code",
    "id": "5knjNOzx3vIG",
    "outputId": "ab51a4fa-e468-4933-dcc7-2c7c16646b0e"
   },
   "outputs": [],
   "source": [
    "#X_test.shape"
   ]
  },
  {
   "cell_type": "code",
   "execution_count": 37,
   "metadata": {
    "colab": {
     "base_uri": "https://localhost:8080/",
     "height": 34
    },
    "colab_type": "code",
    "id": "s75rsGsW3vIK",
    "outputId": "4bc57f4b-195d-4058-d5b9-727ce28193a8",
    "scrolled": true
   },
   "outputs": [],
   "source": [
    "#y_train.shape"
   ]
  },
  {
   "cell_type": "code",
   "execution_count": 38,
   "metadata": {
    "colab": {
     "base_uri": "https://localhost:8080/",
     "height": 34
    },
    "colab_type": "code",
    "id": "HjXKgcsx3vIL",
    "outputId": "c21507f6-4c14-400c-9b26-1fb0879b6b40",
    "scrolled": true
   },
   "outputs": [],
   "source": [
    "#y_test.shape"
   ]
  },
  {
   "cell_type": "markdown",
   "metadata": {
    "colab_type": "text",
    "id": "4aThoPSQ3vIN"
   },
   "source": [
    "# Pipeline"
   ]
  },
  {
   "cell_type": "code",
   "execution_count": 39,
   "metadata": {
    "colab": {},
    "colab_type": "code",
    "id": "9UD0Uqqj3vIO"
   },
   "outputs": [],
   "source": [
    "features_pipeline = Pipeline([\n",
    "    ('scale', MinMaxScaler()),\n",
    "    ('transform', QuantileTransformer(output_distribution='normal'))\n",
    "])"
   ]
  },
  {
   "cell_type": "code",
   "execution_count": 40,
   "metadata": {
    "colab": {},
    "colab_type": "code",
    "id": "t7yT_snU3vIx"
   },
   "outputs": [],
   "source": [
    "preprocessor = ColumnTransformer(\n",
    "    transformers=[\n",
    "        ('num', features_pipeline, features),\n",
    "    ]\n",
    ")"
   ]
  },
  {
   "cell_type": "code",
   "execution_count": 41,
   "metadata": {
    "colab": {},
    "colab_type": "code",
    "id": "Avdy8a4u3vJB"
   },
   "outputs": [],
   "source": [
    "classifier_pipeline = Pipeline(\n",
    "    steps=[\n",
    "        ('preprocessing', preprocessor),\n",
    "        ('classify', CustomClassifier(base=LogisticRegression()))\n",
    "    ]\n",
    ")"
   ]
  },
  {
   "cell_type": "code",
   "execution_count": 42,
   "metadata": {
    "colab": {
     "base_uri": "https://localhost:8080/",
     "height": 646
    },
    "colab_type": "code",
    "id": "N8SAoEJJ3vJC",
    "outputId": "3737d04f-4439-4858-8574-01c0f1bc453d"
   },
   "outputs": [
    {
     "data": {
      "text/plain": [
       "Pipeline(steps=[('preprocessing',\n",
       "                 ColumnTransformer(transformers=[('num',\n",
       "                                                  Pipeline(steps=[('scale',\n",
       "                                                                   MinMaxScaler()),\n",
       "                                                                  ('transform',\n",
       "                                                                   QuantileTransformer(output_distribution='normal'))]),\n",
       "                                                  ['VASK0', 'VASK1', 'VASK2',\n",
       "                                                   'VASK3', 'VASK4', 'VBID0',\n",
       "                                                   'VBID1', 'VBID2', 'VBID3',\n",
       "                                                   'VBID4', 'VASK0_PREV',\n",
       "                                                   'VASK1_PREV', 'VASK2_PREV',\n",
       "                                                   'VASK3_PREV', 'VASK4_PREV',\n",
       "                                                   'VBID0_PREV', 'VBID1_PREV',\n",
       "                                                   'VBID2_PREV', 'VBID3_PREV',\n",
       "                                                   'VBID4_PREV'])])),\n",
       "                ('classify', CustomClassifier(base=LogisticRegression()))])"
      ]
     },
     "execution_count": 42,
     "metadata": {},
     "output_type": "execute_result"
    }
   ],
   "source": [
    "classifier_pipeline.fit(X_train, y_train)"
   ]
  },
  {
   "cell_type": "code",
   "execution_count": 43,
   "metadata": {
    "colab": {},
    "colab_type": "code",
    "id": "JGpjSkFE3vJD"
   },
   "outputs": [],
   "source": [
    "y_pred = classifier_pipeline.predict_proba(X_test)"
   ]
  },
  {
   "cell_type": "code",
   "execution_count": 44,
   "metadata": {
    "colab": {},
    "colab_type": "code",
    "id": "QbfKdQQC3vJE"
   },
   "outputs": [],
   "source": [
    "fpr, tpr, _ = roc_curve(y_test, y_pred[:, 1])"
   ]
  },
  {
   "cell_type": "code",
   "execution_count": 51,
   "metadata": {
    "colab": {
     "base_uri": "https://localhost:8080/",
     "height": 657
    },
    "colab_type": "code",
    "id": "r7i7bruW3vJF",
    "outputId": "5f79cf82-aed2-40d8-9458-ca5b5374ef41"
   },
   "outputs": [
    {
     "data": {
      "image/png": "[encoded data removed]",
      "text/plain": [
       "<Figure size 720x720 with 1 Axes>"
      ]
     },
     "metadata": {},
     "output_type": "display_data"
    }
   ],
   "source": [
    "plt.figure(figsize=(10, 10))\n",
    "plt.plot(fpr, tpr, color='darkorange', lw=2, label='ROC curve (area = %0.5f)' % auc(fpr, tpr))\n",
    "plt.plot([0, 1], [0, 1], color='navy', lw=2, linestyle='--')\n",
    "plt.xlim([-0.01, 1.0])\n",
    "plt.ylim([0.0, 1.01])\n",
    "plt.xlabel('False Positive Rate')\n",
    "plt.ylabel('True Positive Rate')\n",
    "plt.legend(loc=\"lower right\")\n",
    "plt.show()"
   ]
  },
  {
   "cell_type": "code",
   "execution_count": 46,
   "metadata": {
    "colab": {
     "base_uri": "https://localhost:8080/",
     "height": 34
    },
    "colab_type": "code",
    "id": "AWUtQdf63vJI",
    "outputId": "48a2628b-f49e-470b-b8f3-e6b7bed9cbd4",
    "scrolled": false
   },
   "outputs": [],
   "source": [
    "#print(cross_val_score(classifier_pipeline, X_train, y_train, cv=5))"
   ]
  },
  {
   "cell_type": "code",
   "execution_count": 47,
   "metadata": {},
   "outputs": [],
   "source": [
    "test_pred = classifier_pipeline.predict_proba(test_data)"
   ]
  },
  {
   "cell_type": "code",
   "execution_count": 48,
   "metadata": {},
   "outputs": [],
   "source": [
    "z = test_pred[:, 1]"
   ]
  },
  {
   "cell_type": "code",
   "execution_count": 49,
   "metadata": {},
   "outputs": [],
   "source": [
    "with open('prediction.csv', 'w') as file:\n",
    "        file.write('Y_PRED' + '\\n')\n",
    "        for i in z:\n",
    "             file.write(str(i) + '\\n')"
   ]
  }
 ],
 "metadata": {
  "colab": {
   "name": "CLASSWORK.ipynb",
   "provenance": [],
   "toc_visible": true,
   "version": "0.3.2"
  },
  "kernelspec": {
   "display_name": "Python 3",
   "language": "python",
   "name": "python3"
  },
  "language_info": {
   "codemirror_mode": {
    "name": "ipython",
    "version": 3
   },
   "file_extension": ".py",
   "mimetype": "text/x-python",
   "name": "python",
   "nbconvert_exporter": "python",
   "pygments_lexer": "ipython3",
   "version": "3.8.3"
  }
 },
 "nbformat": 4,
 "nbformat_minor": 1
}
